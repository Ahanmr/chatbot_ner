{
 "cells": [
  {
   "cell_type": "code",
   "execution_count": 1,
   "metadata": {
    "collapsed": true
   },
   "outputs": [],
   "source": [
    "import pandas as pd\n",
    "import json\n",
    "import re\n",
    "from nltk.corpus import stopwords\n",
    "import string\n",
    "import glob"
   ]
  },
  {
   "cell_type": "code",
   "execution_count": 16,
   "metadata": {
    "collapsed": true
   },
   "outputs": [],
   "source": [
    "\n",
    "\n",
    "def clean_data(file_name, output_file, positive):\n",
    "\n",
    "    raw_data = pd.read_csv(file_name)\n",
    "    raw_data['message_cache'] = raw_data['message_cache'].apply(lambda x:json.loads(x))\n",
    "    raw_data\n",
    "\n",
    "\n",
    "    # In[4]:\n",
    "\n",
    "\n",
    "    raw_data.drop_duplicates(subset=['body'], inplace=True)\n",
    "    len(raw_data)\n",
    "\n",
    "\n",
    "    # In[5]:\n",
    "\n",
    "\n",
    "    def extract_values_from_json(json_dict, key):\n",
    "        value_list = []\n",
    "\n",
    "        if json_dict:\n",
    "            entity_dict_list = json_dict.get('entities').get('nearby_type')\n",
    "\n",
    "            if entity_dict_list:\n",
    "                for each in entity_dict_list:\n",
    "                    value_list.append(each[key])\n",
    "        return (value_list)\n",
    "    raw_data['original_text'] = raw_data['message_cache'].apply(lambda x: extract_values_from_json(x, 'original_text'))\n",
    "\n",
    "\n",
    "    # In[6]:\n",
    "\n",
    "\n",
    "    def clean_text(text):\n",
    "        text = re.sub(r\"\\{.*\\}\", \"\", text).strip()\n",
    "        text = text.replace('\\n', ' ').strip()\n",
    "        text = text.replace('\\r', ' ').strip()\n",
    "        return text\n",
    "    raw_data['body'] = raw_data['body'].apply(lambda x: clean_text(str(x)))\n",
    "\n",
    "\n",
    "    # In[7]:\n",
    "\n",
    "\n",
    "    stop_words = stopwords.words('english')\n",
    "    corner_cases = ['cng pump', 'fitness', 'chemists', 'chemist']\n",
    "    def if_only_alpha(original_text):\n",
    "        for char in original_text:\n",
    "            if not (char.isalpha() or char.isspace()):\n",
    "                return True\n",
    "        return False\n",
    "\n",
    "\n",
    "    def handle_corner_cases(original_text):\n",
    "        if original_text.lower() == 'cng pump':\n",
    "            return 'petrol pump'\n",
    "        elif original_text.lower() == 'fitness':\n",
    "            return 'gym'\n",
    "        elif original_text.lower() == 'chemists':\n",
    "            return 'medical store'\n",
    "        return '&'      \n",
    "\n",
    "\n",
    "\n",
    "    def get_pos_entities(text, original_text_list):\n",
    "        processed_original_text = []\n",
    "        if original_text_list:\n",
    "            for original_text in original_text_list:\n",
    "                alpha = if_only_alpha(original_text)\n",
    "                if (len(original_text) > 25) or (original_text.lower() in stop_words) or (not(original_text.lower() in text.lower())) or alpha:\n",
    "                    continue\n",
    "                else:\n",
    "                    processed_original_text.append(original_text)\n",
    "            if processed_original_text:\n",
    "                return processed_original_text\n",
    "        return None\n",
    "\n",
    "    def get_all_entities(text, original_text_list):\n",
    "        processed_original_text = []\n",
    "        for original_text in original_text_list:\n",
    "            alpha = if_only_alpha(original_text)\n",
    "            if (len(original_text) > 25) or (original_text.lower() in stop_words) or (not(original_text.lower() in text.lower())) or alpha:\n",
    "                continue\n",
    "            else:\n",
    "                processed_original_text.append(original_text)\n",
    "        return processed_original_text\n",
    "\n",
    "\n",
    "    # In[8]:\n",
    "\n",
    "\n",
    "    if positive:\n",
    "        raw_data['original_text'] = raw_data.apply(lambda x: get_pos_entities(x['body'], x['original_text']), axis=1)\n",
    "    else:\n",
    "        raw_data['original_text'] = raw_data.apply(lambda x: get_all_entities(x['body'], x['original_text']), axis=1)\n",
    "    raw_data.dropna(inplace=True)\n",
    "    len(raw_data)\n",
    "\n",
    "\n",
    "    # In[9]:\n",
    "\n",
    "\n",
    "    entity_list = []\n",
    "    def entity_count(original_text_list):\n",
    "        for original_text in original_text_list:\n",
    "            if not (original_text in entity_list):\n",
    "                entity_list.append(original_text)\n",
    "\n",
    "    raw_data['original_text'].apply(lambda x: entity_count(x))\n",
    "    len(entity_list)\n",
    "\n",
    "\n",
    "    # In[10]:\n",
    "\n",
    "\n",
    "    pos = 0\n",
    "    neg = 0\n",
    "#    def count_positive_negative(original_text_list):\n",
    "#        global pos, neg\n",
    "#        if original_text_list:\n",
    "#            pos += 1\n",
    "#        else:\n",
    "#            neg += 1\n",
    "\n",
    "#    if not positive:\n",
    "#        raw_data['original_text'].apply(lambda x: count_positive_negative(x))\n",
    "#        print((pos, neg))\n",
    "\n",
    "    data = raw_data[['body', 'original_text']]\n",
    "    data.to_csv(output_file)\n",
    "    \n",
    "    # In[11]:\n",
    "\n",
    "\n",
    "\n",
    "\n",
    "    # In[13]:\n",
    "\n"
   ]
  },
  {
   "cell_type": "code",
   "execution_count": 24,
   "metadata": {},
   "outputs": [
    {
     "name": "stdout",
     "output_type": "stream",
     "text": [
      "/home/pratik/NER/positive//positivemessages_aroundmechannel_22-06-2018 (4).csv\n",
      "/home/pratik/NER/positive//positivemessages_aroundmechannel_22-06-2018 (9).csv\n",
      "/home/pratik/NER/positive//positivemessages_aroundmechannel_22-06-2018 (3).csv\n",
      "/home/pratik/NER/positive//positivemessages_aroundmechannel_22-06-2018 (8).csv\n",
      "/home/pratik/NER/positive//positivemessages_aroundmechannel_22-06-2018 (6).csv\n",
      "/home/pratik/NER/positive//positivemessages_aroundmechannel_22-06-2018 (1).csv\n",
      "/home/pratik/NER/positive//positivemessages_aroundmechannel_22-06-2018 (7).csv\n",
      "/home/pratik/NER/positive//positivemessages_aroundmechannel_22-06-2018 (5).csv\n",
      "/home/pratik/NER/positive//positivemessages_aroundmechannel_22-06-2018 (2).csv\n",
      "/home/pratik/NER/positive//positivemessages_aroundmechannel_22-06-2018.csv\n",
      "/home/pratik/NER/positive//positivemessages_aroundmechannel_18-06-2018 (1).csv\n"
     ]
    }
   ],
   "source": [
    "positive = True\n",
    "file_names = glob.glob('/home/pratik/NER/raw_data//*')\n",
    "if positive:\n",
    "    for file_name in file_names:\n",
    "        output_file = '/home/pratik/NER/positive//positive'+file_name.split('/')[-1]\n",
    "        print(output_file)\n",
    "        clean_data(file_name=file_name, output_file=output_file, positive=positive)\n",
    "else:\n",
    "    for file_name in file_names:\n",
    "        output_file = '/home/pratik/NER/negative//all'+file_name.split('/')[-1]\n",
    "        clean_data(file_name=file_name, output_file=output_file, positive=positive)\n",
    "        print(output_file)"
   ]
  },
  {
   "cell_type": "code",
   "execution_count": 25,
   "metadata": {},
   "outputs": [
    {
     "name": "stdout",
     "output_type": "stream",
     "text": [
      "/home/pratik/NER/negative//allmessages_aroundmechannel_22-06-2018 (4).csv\n",
      "/home/pratik/NER/negative//allmessages_aroundmechannel_22-06-2018 (9).csv\n",
      "/home/pratik/NER/negative//allmessages_aroundmechannel_22-06-2018 (3).csv\n",
      "/home/pratik/NER/negative//allmessages_aroundmechannel_22-06-2018 (8).csv\n",
      "/home/pratik/NER/negative//allmessages_aroundmechannel_22-06-2018 (6).csv\n",
      "/home/pratik/NER/negative//allmessages_aroundmechannel_22-06-2018 (1).csv\n",
      "/home/pratik/NER/negative//allmessages_aroundmechannel_22-06-2018 (7).csv\n",
      "/home/pratik/NER/negative//allmessages_aroundmechannel_22-06-2018 (5).csv\n",
      "/home/pratik/NER/negative//allmessages_aroundmechannel_22-06-2018 (2).csv\n",
      "/home/pratik/NER/negative//allmessages_aroundmechannel_22-06-2018.csv\n",
      "/home/pratik/NER/negative//allmessages_aroundmechannel_18-06-2018 (1).csv\n"
     ]
    }
   ],
   "source": [
    "positive = False\n",
    "file_names = glob.glob('/home/pratik/NER/raw_data//*')\n",
    "if positive:\n",
    "    for file_name in file_names:\n",
    "        output_file = '/home/pratik/NER/positive//positive'+file_name.split('/')[-1]\n",
    "        print(output_file)\n",
    "        clean_data(file_name=file_name, output_file=output_file, positive=positive)\n",
    "else:\n",
    "    for file_name in file_names:\n",
    "        output_file = '/home/pratik/NER/negative//all'+file_name.split('/')[-1]\n",
    "        clean_data(file_name=file_name, output_file=output_file, positive=positive)\n",
    "        print(output_file)"
   ]
  },
  {
   "cell_type": "code",
   "execution_count": 41,
   "metadata": {},
   "outputs": [],
   "source": [
    "file_names = glob.glob('/home/pratik/NER/negative/*')"
   ]
  },
  {
   "cell_type": "code",
   "execution_count": null,
   "metadata": {
    "collapsed": true
   },
   "outputs": [],
   "source": [
    "data = pd.DataFrame()\n",
    "for file_name in file_names:\n",
    "    temp_data = pd.read_csv(file_name)\n",
    "    data = pd.concat([data, temp_data])\n",
    "data"
   ]
  },
  {
   "cell_type": "code",
   "execution_count": 43,
   "metadata": {
    "collapsed": true
   },
   "outputs": [],
   "source": [
    "data.to_csv('/home/pratik/NER/data/large_all.csv')"
   ]
  },
  {
   "cell_type": "code",
   "execution_count": null,
   "metadata": {
    "collapsed": true
   },
   "outputs": [],
   "source": [
    "file_names = glob.glob('/home/pratik/NER/positive//*')"
   ]
  },
  {
   "cell_type": "code",
   "execution_count": null,
   "metadata": {
    "collapsed": true
   },
   "outputs": [],
   "source": [
    "data = pd.DataFrame()\n",
    "for file_name in file_names:\n",
    "    temp_data = pd.read_csv(file_name)\n",
    "    data = pd.concat([data, temp_data])\n",
    "data"
   ]
  },
  {
   "cell_type": "code",
   "execution_count": null,
   "metadata": {
    "collapsed": true
   },
   "outputs": [],
   "source": [
    "data.to_csv('/home/pratik/NER/data/large_positive.csv')"
   ]
  }
 ],
 "metadata": {
  "kernelspec": {
   "display_name": "Python 3",
   "language": "python",
   "name": "python3"
  },
  "language_info": {
   "codemirror_mode": {
    "name": "ipython",
    "version": 3
   },
   "file_extension": ".py",
   "mimetype": "text/x-python",
   "name": "python",
   "nbconvert_exporter": "python",
   "pygments_lexer": "ipython3",
   "version": "3.6.3"
  }
 },
 "nbformat": 4,
 "nbformat_minor": 2
}
